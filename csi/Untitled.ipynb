{
 "cells": [
  {
   "cell_type": "code",
   "execution_count": 1,
   "metadata": {
    "collapsed": true
   },
   "outputs": [],
   "source": [
    "import numpy as np\n",
    "import scipy as sp\n",
    "import csi\n",
    "from hcsi import *"
   ]
  },
  {
   "cell_type": "code",
   "execution_count": 2,
   "metadata": {
    "collapsed": true
   },
   "outputs": [],
   "source": [
    "inp = csi.loadData('testdata/Demo_DREAM.csv')"
   ]
  },
  {
   "cell_type": "code",
   "execution_count": 3,
   "metadata": {
    "collapsed": true
   },
   "outputs": [],
   "source": [
    "np.random.seed(1)"
   ]
  },
  {
   "cell_type": "code",
   "execution_count": 4,
   "metadata": {
    "collapsed": true
   },
   "outputs": [],
   "source": [
    "\thnrv = RandomVariableHyperNetwork(inp,'Gene1',2)\n",
    "\tcrv = []\n",
    "\tconditions = np.unique([x[0] for x in inp.columns.values])\n",
    "\tfor cond in conditions:\n",
    "\t\tcrv.append(RandomVariableCondition(inp,cond,'Gene1',[10,0.1],[1,1],2,True))"
   ]
  },
  {
   "cell_type": "code",
   "execution_count": 5,
   "metadata": {
    "collapsed": false
   },
   "outputs": [
    {
     "data": {
      "text/plain": [
       "(['Gene3', 'Gene5'], 'Gene1')"
      ]
     },
     "execution_count": 5,
     "metadata": {},
     "output_type": "execute_result"
    }
   ],
   "source": [
    "hnrv.currentValue"
   ]
  },
  {
   "cell_type": "code",
   "execution_count": 10,
   "metadata": {
    "collapsed": false
   },
   "outputs": [
    {
     "data": {
      "text/plain": [
       "(['Gene6', 'Gene7'], 'Gene1')"
      ]
     },
     "execution_count": 10,
     "metadata": {},
     "output_type": "execute_result"
    }
   ],
   "source": [
    "crv[4].currentValue"
   ]
  },
  {
   "cell_type": "code",
   "execution_count": 15,
   "metadata": {
    "collapsed": false
   },
   "outputs": [
    {
     "data": {
      "text/plain": [
       "array([-1.6806106 , -2.38229308, -1.06258689])"
      ]
     },
     "execution_count": 15,
     "metadata": {},
     "output_type": "execute_result"
    }
   ],
   "source": [
    "np.log(crv[1].em.hypers)"
   ]
  },
  {
   "cell_type": "code",
   "execution_count": 14,
   "metadata": {
    "collapsed": true
   },
   "outputs": [],
   "source": [
    "for i in np.arange(5):\n",
    "    wll = crv[i].em.hypers[0]\n",
    "    crv[i].em.hypers[0] = crv[i].em.hypers[1]\n",
    "    crv[i].em.hypers[1] = wll"
   ]
  },
  {
   "cell_type": "code",
   "execution_count": 19,
   "metadata": {
    "collapsed": true
   },
   "outputs": [],
   "source": [
    "kek2 = crv[0].getConditionalDistribution(hnrv.currentValue)"
   ]
  },
  {
   "cell_type": "code",
   "execution_count": 20,
   "metadata": {
    "collapsed": false
   },
   "outputs": [
    {
     "data": {
      "text/plain": [
       "array([ 0.0238334 ,  0.02156489,  0.02633945,  0.02156506,  0.02633997,\n",
       "        0.02156494,  0.02156467,  0.02156494,  0.02156471,  0.02156549,\n",
       "        0.02383262,  0.01951253,  0.02383286,  0.01951258,  0.01951235,\n",
       "        0.01951257,  0.01951237,  0.01951278,  0.02383269,  0.02910959,\n",
       "        0.02383272,  0.02383246,  0.02383272,  0.02383248,  0.02383302,\n",
       "        0.02383304,  0.0195126 ,  0.01951241,  0.0195126 ,  0.01951243,\n",
       "        0.01951295,  0.0238329 ,  0.02383265,  0.0238329 ,  0.02383266,\n",
       "        0.02383336,  0.01951245,  0.01951265,  0.01951247,  0.01951282,\n",
       "        0.01951242,  0.01951238,  0.01951259,  0.01951243,  0.01951282,\n",
       "        0.0195126 ])"
      ]
     },
     "execution_count": 20,
     "metadata": {},
     "output_type": "execute_result"
    }
   ],
   "source": [
    "kek2"
   ]
  },
  {
   "cell_type": "code",
   "execution_count": 24,
   "metadata": {
    "collapsed": false
   },
   "outputs": [],
   "source": [
    "np.random.seed(1)\n",
    "valInd = roulette(kek2)"
   ]
  },
  {
   "cell_type": "code",
   "execution_count": 25,
   "metadata": {
    "collapsed": false
   },
   "outputs": [
    {
     "data": {
      "text/plain": [
       "19"
      ]
     },
     "execution_count": 25,
     "metadata": {},
     "output_type": "execute_result"
    }
   ],
   "source": [
    "valInd"
   ]
  },
  {
   "cell_type": "code",
   "execution_count": 57,
   "metadata": {
    "collapsed": true
   },
   "outputs": [],
   "source": [
    "np.random.seed(1)"
   ]
  },
  {
   "cell_type": "code",
   "execution_count": 58,
   "metadata": {
    "collapsed": true
   },
   "outputs": [],
   "source": [
    "\thnrv = RandomVariableHyperNetwork(inp,'Gene1',2)\n",
    "\tcrv = []\n",
    "\tconditions = np.unique([x[0] for x in inp.columns.values])\n",
    "\tfor cond in conditions:\n",
    "\t\tcrv.append(RandomVariableCondition(inp,cond,'Gene1',[10,0.1],[1,1],2,True))"
   ]
  },
  {
   "cell_type": "code",
   "execution_count": 59,
   "metadata": {
    "collapsed": true
   },
   "outputs": [],
   "source": [
    "for i in np.arange(5):\n",
    "    wll = crv[i].em.hypers[0]\n",
    "    crv[i].em.hypers[0] = crv[i].em.hypers[1]\n",
    "    crv[i].em.hypers[1] = wll"
   ]
  },
  {
   "cell_type": "code",
   "execution_count": 60,
   "metadata": {
    "collapsed": true
   },
   "outputs": [],
   "source": [
    "gibbs = GibbsHCSI(crv,hnrv)"
   ]
  },
  {
   "cell_type": "code",
   "execution_count": 61,
   "metadata": {
    "collapsed": false
   },
   "outputs": [
    {
     "data": {
      "text/plain": [
       "(['Gene3', 'Gene5'], 'Gene1')"
      ]
     },
     "execution_count": 61,
     "metadata": {},
     "output_type": "execute_result"
    }
   ],
   "source": [
    "gibbs.rvHyperNetwork.currentValue"
   ]
  },
  {
   "cell_type": "code",
   "execution_count": 62,
   "metadata": {
    "collapsed": false
   },
   "outputs": [
    {
     "data": {
      "text/plain": [
       "(['Gene7'], 'Gene1')"
      ]
     },
     "execution_count": 62,
     "metadata": {},
     "output_type": "execute_result"
    }
   ],
   "source": [
    "gibbs.rvl[0].currentValue"
   ]
  },
  {
   "cell_type": "code",
   "execution_count": 30,
   "metadata": {
    "collapsed": false
   },
   "outputs": [
    {
     "data": {
      "text/plain": [
       "array([ 0.96826158,  0.31342418,  0.69232262,  0.87638915,  0.89460666])"
      ]
     },
     "execution_count": 30,
     "metadata": {},
     "output_type": "execute_result"
    }
   ],
   "source": [
    "sp.rand(5)"
   ]
  },
  {
   "cell_type": "code",
   "execution_count": 31,
   "metadata": {
    "collapsed": true
   },
   "outputs": [],
   "source": [
    "kek2 = crv[0].getConditionalDistribution(hnrv.currentValue)"
   ]
  },
  {
   "cell_type": "code",
   "execution_count": 32,
   "metadata": {
    "collapsed": false
   },
   "outputs": [
    {
     "data": {
      "text/plain": [
       "array([ 0.08504421,  0.03905478,  0.16983042,  0.8781425 ,  0.09834683])"
      ]
     },
     "execution_count": 32,
     "metadata": {},
     "output_type": "execute_result"
    }
   ],
   "source": [
    "sp.rand(5)"
   ]
  },
  {
   "cell_type": "code",
   "execution_count": 33,
   "metadata": {
    "collapsed": false
   },
   "outputs": [
    {
     "data": {
      "text/plain": [
       "array([ 0.42110763,  0.95788953,  0.53316528,  0.69187711,  0.31551563])"
      ]
     },
     "execution_count": 33,
     "metadata": {},
     "output_type": "execute_result"
    }
   ],
   "source": [
    "sp.rand(5)"
   ]
  },
  {
   "cell_type": "code",
   "execution_count": 34,
   "metadata": {
    "collapsed": false
   },
   "outputs": [
    {
     "data": {
      "text/plain": [
       "array([ 0.02383282,  0.02156482,  0.02633934,  0.02156482,  0.02633934,\n",
       "        0.02156482,  0.02156482,  0.02156482,  0.02156482,  0.02156482,\n",
       "        0.02383282,  0.01951266,  0.02383282,  0.01951266,  0.01951266,\n",
       "        0.01951266,  0.01951266,  0.01951266,  0.02383282,  0.02910947,\n",
       "        0.02383282,  0.02383282,  0.02383282,  0.02383282,  0.02383282,\n",
       "        0.02383282,  0.01951266,  0.01951266,  0.01951266,  0.01951266,\n",
       "        0.01951266,  0.02383282,  0.02383282,  0.02383282,  0.02383282,\n",
       "        0.02383282,  0.01951266,  0.01951266,  0.01951266,  0.01951266,\n",
       "        0.01951266,  0.01951266,  0.01951266,  0.01951266,  0.01951266,\n",
       "        0.01951266])"
      ]
     },
     "execution_count": 34,
     "metadata": {},
     "output_type": "execute_result"
    }
   ],
   "source": [
    "kek2"
   ]
  },
  {
   "cell_type": "code",
   "execution_count": 35,
   "metadata": {
    "collapsed": false
   },
   "outputs": [
    {
     "data": {
      "text/plain": [
       "array([ 0.68650093,  0.83462567,  0.01828828,  0.75014431,  0.98886109])"
      ]
     },
     "execution_count": 35,
     "metadata": {},
     "output_type": "execute_result"
    }
   ],
   "source": [
    "sp.rand(5)"
   ]
  },
  {
   "cell_type": "code",
   "execution_count": 36,
   "metadata": {
    "collapsed": true
   },
   "outputs": [],
   "source": [
    "valInd = roulette(kek2)"
   ]
  },
  {
   "cell_type": "code",
   "execution_count": 37,
   "metadata": {
    "collapsed": false
   },
   "outputs": [
    {
     "data": {
      "text/plain": [
       "33"
      ]
     },
     "execution_count": 37,
     "metadata": {},
     "output_type": "execute_result"
    }
   ],
   "source": [
    "valInd"
   ]
  },
  {
   "cell_type": "code",
   "execution_count": 40,
   "metadata": {
    "collapsed": true
   },
   "outputs": [],
   "source": [
    "i=0\n",
    "pset = gibbs.rvHyperNetwork.getValRange()"
   ]
  },
  {
   "cell_type": "code",
   "execution_count": 41,
   "metadata": {
    "collapsed": false
   },
   "outputs": [],
   "source": [
    "gibbs.rvl[i].setCurrentValue(pset[valInd])"
   ]
  },
  {
   "cell_type": "code",
   "execution_count": 42,
   "metadata": {
    "collapsed": true
   },
   "outputs": [],
   "source": [
    "i=1"
   ]
  },
  {
   "cell_type": "code",
   "execution_count": 43,
   "metadata": {
    "collapsed": true
   },
   "outputs": [],
   "source": [
    "distribution = gibbs.rvl[i].getConditionalDistribution(gibbs.rvHyperNetwork.getCurrentValue())"
   ]
  },
  {
   "cell_type": "code",
   "execution_count": 45,
   "metadata": {
    "collapsed": false
   },
   "outputs": [
    {
     "data": {
      "text/plain": [
       "0"
      ]
     },
     "execution_count": 45,
     "metadata": {},
     "output_type": "execute_result"
    }
   ],
   "source": [
    "roulette(distribution)"
   ]
  },
  {
   "cell_type": "code",
   "execution_count": 46,
   "metadata": {
    "collapsed": true
   },
   "outputs": [],
   "source": [
    "gibbs.rvl[i].setCurrentValue(pset[0])"
   ]
  },
  {
   "cell_type": "code",
   "execution_count": 47,
   "metadata": {
    "collapsed": true
   },
   "outputs": [],
   "source": [
    "i=2"
   ]
  },
  {
   "cell_type": "code",
   "execution_count": 48,
   "metadata": {
    "collapsed": true
   },
   "outputs": [],
   "source": [
    "distribution = gibbs.rvl[i].getConditionalDistribution(gibbs.rvHyperNetwork.getCurrentValue())"
   ]
  },
  {
   "cell_type": "code",
   "execution_count": 49,
   "metadata": {
    "collapsed": true
   },
   "outputs": [],
   "source": [
    "self = gibbs"
   ]
  },
  {
   "cell_type": "code",
   "execution_count": 50,
   "metadata": {
    "collapsed": true
   },
   "outputs": [],
   "source": [
    "\t\t\tvalInd = roulette(distribution)\n",
    "\t\t\tself.rvl[i].setCurrentValue(pset[valInd])"
   ]
  },
  {
   "cell_type": "code",
   "execution_count": 51,
   "metadata": {
    "collapsed": false
   },
   "outputs": [
    {
     "data": {
      "text/plain": [
       "20"
      ]
     },
     "execution_count": 51,
     "metadata": {},
     "output_type": "execute_result"
    }
   ],
   "source": [
    "valInd"
   ]
  },
  {
   "cell_type": "code",
   "execution_count": 52,
   "metadata": {
    "collapsed": false
   },
   "outputs": [
    {
     "data": {
      "text/plain": [
       "array([ 0.1411766 ,  0.05307853,  0.00997454,  0.04520077,  0.01252017,\n",
       "        0.01395416,  0.10063757,  0.06549198,  0.26896673,  0.01031954,\n",
       "        0.00243595,  0.00619632,  0.00349929,  0.00283185,  0.00716746,\n",
       "        0.00920193,  0.02480846,  0.00284221,  0.00470992,  0.00272039,\n",
       "        0.0025731 ,  0.00352301,  0.00571751,  0.00503981,  0.00225387,\n",
       "        0.00440678,  0.00549035,  0.01578362,  0.00738836,  0.0317258 ,\n",
       "        0.00421846,  0.00273038,  0.00397178,  0.00528236,  0.00743969,\n",
       "        0.00411084,  0.00443803,  0.00564832,  0.00631594,  0.00225574,\n",
       "        0.01330006,  0.03156331,  0.00304993,  0.02331868,  0.00390198,\n",
       "        0.00681791])"
      ]
     },
     "execution_count": 52,
     "metadata": {},
     "output_type": "execute_result"
    }
   ],
   "source": [
    "distribution"
   ]
  },
  {
   "cell_type": "code",
   "execution_count": 55,
   "metadata": {
    "collapsed": false
   },
   "outputs": [
    {
     "data": {
      "text/plain": [
       "array([-2.38229308, -1.6806106 , -1.06258689])"
      ]
     },
     "execution_count": 55,
     "metadata": {},
     "output_type": "execute_result"
    }
   ],
   "source": [
    "np.log(self.rvl[1].em.hypers)"
   ]
  },
  {
   "cell_type": "code",
   "execution_count": 63,
   "metadata": {
    "collapsed": true
   },
   "outputs": [],
   "source": [
    "np.random.seed(1)"
   ]
  },
  {
   "cell_type": "code",
   "execution_count": 64,
   "metadata": {
    "collapsed": true
   },
   "outputs": [],
   "source": [
    "\thnrv = RandomVariableHyperNetwork(inp,'Gene1',2)\n",
    "\tcrv = []\n",
    "\tconditions = np.unique([x[0] for x in inp.columns.values])\n",
    "\tfor cond in conditions:\n",
    "\t\tcrv.append(RandomVariableCondition(inp,cond,'Gene1',[10,0.1],[1,1],2,True))"
   ]
  },
  {
   "cell_type": "code",
   "execution_count": 65,
   "metadata": {
    "collapsed": true
   },
   "outputs": [],
   "source": [
    "for i in np.arange(5):\n",
    "    wll = crv[i].em.hypers[0]\n",
    "    crv[i].em.hypers[0] = crv[i].em.hypers[1]\n",
    "    crv[i].em.hypers[1] = wll"
   ]
  },
  {
   "cell_type": "code",
   "execution_count": 66,
   "metadata": {
    "collapsed": true
   },
   "outputs": [],
   "source": [
    "gibbs = GibbsHCSI(crv,hnrv)"
   ]
  },
  {
   "cell_type": "code",
   "execution_count": 67,
   "metadata": {
    "collapsed": false
   },
   "outputs": [
    {
     "data": {
      "text/plain": [
       "(['Gene3', 'Gene5'], 'Gene1')"
      ]
     },
     "execution_count": 67,
     "metadata": {},
     "output_type": "execute_result"
    }
   ],
   "source": [
    "gibbs.rvHyperNetwork.currentValue"
   ]
  },
  {
   "cell_type": "code",
   "execution_count": 68,
   "metadata": {
    "collapsed": false
   },
   "outputs": [
    {
     "data": {
      "text/plain": [
       "array([-9.07602963, -0.32805348, -1.19622763])"
      ]
     },
     "execution_count": 68,
     "metadata": {},
     "output_type": "execute_result"
    }
   ],
   "source": [
    "np.log(gibbs.rvl[0].em.hypers)"
   ]
  },
  {
   "cell_type": "code",
   "execution_count": 69,
   "metadata": {
    "collapsed": true
   },
   "outputs": [],
   "source": [
    "self = gibbs"
   ]
  },
  {
   "cell_type": "code",
   "execution_count": 70,
   "metadata": {
    "collapsed": true
   },
   "outputs": [],
   "source": [
    "\t\tvalList = []\n",
    "\t\tbetaList = []\n",
    "\t\tpset = self.rvHyperNetwork.getValRange()\n",
    "\t\tfor i in self.indexList:\n",
    "\t\t\t#for each variable, build a distribution accross all possible values for that variable\n",
    "\t\t\t#based on current values of other variable \n",
    "\t\t\tdistribution = self.rvl[i].getConditionalDistribution(self.rvHyperNetwork.getCurrentValue())\n",
    "\t\t\t#sample a random value based on the distribution\n",
    "\t\t\tvalInd = roulette(distribution)\n",
    "\t\t\tself.rvl[i].setCurrentValue(pset[valInd])\n",
    "\t\t\tvalList.append(pset[valInd])\n",
    "\t\t\tbetaList.append(self.rvl[i].beta)"
   ]
  },
  {
   "cell_type": "code",
   "execution_count": 71,
   "metadata": {
    "collapsed": false
   },
   "outputs": [
    {
     "data": {
      "text/plain": [
       "[(['Gene8', 'Gene10'], 'Gene1'),\n",
       " ([], 'Gene1'),\n",
       " (['Gene2', 'Gene8'], 'Gene1'),\n",
       " (['Gene6', 'Gene10'], 'Gene1'),\n",
       " (['Gene6', 'Gene10'], 'Gene1')]"
      ]
     },
     "execution_count": 71,
     "metadata": {},
     "output_type": "execute_result"
    }
   ],
   "source": [
    "valList"
   ]
  },
  {
   "cell_type": "code",
   "execution_count": 72,
   "metadata": {
    "collapsed": true
   },
   "outputs": [],
   "source": [
    "distribution = self.rvHyperNetwork.getConditionalDistribution(valList,betaList)"
   ]
  },
  {
   "cell_type": "code",
   "execution_count": 73,
   "metadata": {
    "collapsed": false
   },
   "outputs": [
    {
     "data": {
      "text/plain": [
       "array([ 0.03645434,  0.02700604,  0.02211068,  0.02211068,  0.02211068,\n",
       "        0.03298525,  0.02211068,  0.03298525,  0.02211068,  0.04028828,\n",
       "        0.01637999,  0.01637999,  0.01637999,  0.02443608,  0.01637999,\n",
       "        0.02443608,  0.01637999,  0.02984629,  0.0134108 ,  0.0134108 ,\n",
       "        0.02000657,  0.0134108 ,  0.02000657,  0.0134108 ,  0.02443608,\n",
       "        0.0134108 ,  0.02000657,  0.0134108 ,  0.02000657,  0.0134108 ,\n",
       "        0.02443608,  0.02000657,  0.0134108 ,  0.02000657,  0.0134108 ,\n",
       "        0.02443608,  0.02000657,  0.02984629,  0.02000657,  0.03645434,\n",
       "        0.02000657,  0.0134108 ,  0.02443608,  0.02000657,  0.03645434,\n",
       "        0.02443608])"
      ]
     },
     "execution_count": 73,
     "metadata": {},
     "output_type": "execute_result"
    }
   ],
   "source": [
    "distribution"
   ]
  },
  {
   "cell_type": "code",
   "execution_count": 74,
   "metadata": {
    "collapsed": true
   },
   "outputs": [],
   "source": [
    "valInd = roulette(distribution)"
   ]
  },
  {
   "cell_type": "code",
   "execution_count": 75,
   "metadata": {
    "collapsed": false
   },
   "outputs": [
    {
     "data": {
      "text/plain": [
       "2"
      ]
     },
     "execution_count": 75,
     "metadata": {},
     "output_type": "execute_result"
    }
   ],
   "source": [
    "valInd"
   ]
  },
  {
   "cell_type": "code",
   "execution_count": 76,
   "metadata": {
    "collapsed": true
   },
   "outputs": [],
   "source": [
    "self.rvHyperNetwork.setCurrentValue(pset[valInd])"
   ]
  },
  {
   "cell_type": "code",
   "execution_count": 82,
   "metadata": {
    "collapsed": true
   },
   "outputs": [],
   "source": [
    "np.random.seed(1)\n",
    "\n",
    "i = 0"
   ]
  },
  {
   "cell_type": "code",
   "execution_count": 83,
   "metadata": {
    "collapsed": true
   },
   "outputs": [],
   "source": [
    "\t\t\told_hypers = self.rvl[i].em.hypers\n",
    "\t\t\t#matlab-matching shenanigans\n",
    "\t\t\tdelta = self.rvl[i].thetaconst*sp.randn(3)\n",
    "\t\t\tholder = delta[0]\n",
    "\t\t\tdelta[0] = delta[1]\n",
    "\t\t\tdelta[1] = holder\n",
    "\t\t\tnew_hypers = sp.exp(sp.log(old_hypers)+delta)\n",
    "\t\t\t#set up the thetajumps (nohypers to not shift RNG chain) and compute logliks\n",
    "\t\t\tself.rvl[i].thetajump.setup([valList[i]])\n",
    "\t\t\tself.rvl[i].thetajump.hypers = old_hypers\n",
    "\t\t\told_ll = self.rvl[i].thetajump.logliks()[0]\n",
    "\t\t\tself.rvl[i].thetajump.hypers = new_hypers\n",
    "\t\t\tnew_ll = self.rvl[i].thetajump.logliks()[0]\n",
    "\t\t\t#numeric thing before exping, scale to largest likelihood\n",
    "\t\t\t(new_ll,old_ll) = (new_ll,old_ll)-np.max((new_ll,old_ll))\n",
    "\t\t\t#compute P(hypers)\n",
    "\t\t\tp_hypers_old = np.prod(sp.stats.gamma.pdf(old_hypers,a=self.rvl[i].em._prior_shape,scale=self.rvl[i].em._prior_scale))\n",
    "\t\t\tp_hypers_new = np.prod(sp.stats.gamma.pdf(new_hypers,a=self.rvl[i].em._prior_shape,scale=self.rvl[i].em._prior_scale))\n",
    "\t\t\t#transition probability\n",
    "\t\t\tp_accept_theta = (sp.exp(new_ll) * p_hypers_new) / (sp.exp(old_ll) * p_hypers_old)"
   ]
  },
  {
   "cell_type": "code",
   "execution_count": 84,
   "metadata": {
    "collapsed": false
   },
   "outputs": [
    {
     "data": {
      "text/plain": [
       "array([-9.13720527, -0.16561895, -1.24904481])"
      ]
     },
     "execution_count": 84,
     "metadata": {},
     "output_type": "execute_result"
    }
   ],
   "source": [
    "np.log(new_hypers)"
   ]
  },
  {
   "cell_type": "code",
   "execution_count": 80,
   "metadata": {
    "collapsed": false
   },
   "outputs": [
    {
     "data": {
      "text/plain": [
       "array([-9.07602963, -0.32805348, -1.19622763])"
      ]
     },
     "execution_count": 80,
     "metadata": {},
     "output_type": "execute_result"
    }
   ],
   "source": [
    "np.log(old_hypers)"
   ]
  },
  {
   "cell_type": "code",
   "execution_count": 81,
   "metadata": {
    "collapsed": false
   },
   "outputs": [
    {
     "data": {
      "text/plain": [
       "array([ 0.01828828])"
      ]
     },
     "execution_count": 81,
     "metadata": {},
     "output_type": "execute_result"
    }
   ],
   "source": [
    "sp.rand(1)"
   ]
  },
  {
   "cell_type": "code",
   "execution_count": 93,
   "metadata": {
    "collapsed": true
   },
   "outputs": [],
   "source": [
    "np.random.seed(1)"
   ]
  },
  {
   "cell_type": "code",
   "execution_count": 95,
   "metadata": {
    "collapsed": false
   },
   "outputs": [
    {
     "data": {
      "text/plain": [
       "array([ 1.74481176, -0.7612069 ,  0.3190391 ])"
      ]
     },
     "execution_count": 95,
     "metadata": {},
     "output_type": "execute_result"
    }
   ],
   "source": [
    "sp.randn(3)"
   ]
  },
  {
   "cell_type": "code",
   "execution_count": 94,
   "metadata": {
    "collapsed": false
   },
   "outputs": [
    {
     "data": {
      "text/plain": [
       "array([  4.17022005e-01,   7.20324493e-01,   1.14374817e-04,\n",
       "         3.02332573e-01,   1.46755891e-01,   9.23385948e-02,\n",
       "         1.86260211e-01,   3.45560727e-01,   3.96767474e-01,\n",
       "         5.38816734e-01])"
      ]
     },
     "execution_count": 94,
     "metadata": {},
     "output_type": "execute_result"
    }
   ],
   "source": [
    "sp.rand(10)"
   ]
  },
  {
   "cell_type": "code",
   "execution_count": 96,
   "metadata": {
    "collapsed": false
   },
   "outputs": [
    {
     "data": {
      "text/plain": [
       "array([ 0.02738759,  0.67046751,  0.4173048 ,  0.55868983,  0.14038694,\n",
       "        0.19810149,  0.80074457,  0.96826158,  0.31342418,  0.69232262])"
      ]
     },
     "execution_count": 96,
     "metadata": {},
     "output_type": "execute_result"
    }
   ],
   "source": [
    "sp.rand(10)"
   ]
  },
  {
   "cell_type": "code",
   "execution_count": 97,
   "metadata": {
    "collapsed": true
   },
   "outputs": [],
   "source": [
    "np.random.seed(1)"
   ]
  },
  {
   "cell_type": "code",
   "execution_count": 99,
   "metadata": {
    "collapsed": false
   },
   "outputs": [
    {
     "data": {
      "text/plain": [
       "-0.52440051270804089"
      ]
     },
     "execution_count": 99,
     "metadata": {},
     "output_type": "execute_result"
    }
   ],
   "source": [
    "sp.stats.norm.ppf(0.3)"
   ]
  },
  {
   "cell_type": "code",
   "execution_count": 100,
   "metadata": {
    "collapsed": true
   },
   "outputs": [],
   "source": [
    "\t\t\tdelta = sp.rand(3)\n",
    "\t\t\tholder = delta[0]\n",
    "\t\t\tdelta[0] = delta[1]\n",
    "\t\t\tdelta[1] = holder\n",
    "\t\t\tdelta2 = sp.stats.norm.ppf(delta)"
   ]
  },
  {
   "cell_type": "code",
   "execution_count": 101,
   "metadata": {
    "collapsed": false
   },
   "outputs": [
    {
     "data": {
      "text/plain": [
       "array([ 0.58380574, -0.20951784, -3.68494767])"
      ]
     },
     "execution_count": 101,
     "metadata": {},
     "output_type": "execute_result"
    }
   ],
   "source": [
    "delta2"
   ]
  },
  {
   "cell_type": "code",
   "execution_count": 102,
   "metadata": {
    "collapsed": false
   },
   "outputs": [
    {
     "data": {
      "text/plain": [
       "array([ 0.30233257])"
      ]
     },
     "execution_count": 102,
     "metadata": {},
     "output_type": "execute_result"
    }
   ],
   "source": [
    "sp.rand(1)"
   ]
  },
  {
   "cell_type": "code",
   "execution_count": null,
   "metadata": {
    "collapsed": true
   },
   "outputs": [],
   "source": []
  }
 ],
 "metadata": {
  "kernelspec": {
   "display_name": "Python 3",
   "language": "python",
   "name": "python3"
  },
  "language_info": {
   "codemirror_mode": {
    "name": "ipython",
    "version": 3
   },
   "file_extension": ".py",
   "mimetype": "text/x-python",
   "name": "python",
   "nbconvert_exporter": "python",
   "pygments_lexer": "ipython3",
   "version": "3.4.3"
  }
 },
 "nbformat": 4,
 "nbformat_minor": 0
}
